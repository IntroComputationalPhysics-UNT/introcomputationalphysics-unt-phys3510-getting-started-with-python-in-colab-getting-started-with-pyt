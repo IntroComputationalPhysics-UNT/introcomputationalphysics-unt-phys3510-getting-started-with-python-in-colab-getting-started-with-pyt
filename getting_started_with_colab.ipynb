{
  "nbformat": 4,
  "nbformat_minor": 0,
  "metadata": {
    "colab": {
      "provenance": [],
      "include_colab_link": true
    },
    "kernelspec": {
      "name": "python3",
      "display_name": "Python 3"
    },
    "language_info": {
      "name": "python"
    }
  },
  "cells": [
    {
      "cell_type": "markdown",
      "metadata": {
        "id": "view-in-github",
        "colab_type": "text"
      },
      "source": [
        "<a href=\"https://colab.research.google.com/github/IntroComputationalPhysics-UNT/getting-started-with-python-in-colab-Mattmflores/blob/main/getting_started_with_colab.ipynb\" target=\"_parent\"><img src=\"https://colab.research.google.com/assets/colab-badge.svg\" alt=\"Open In Colab\"/></a>"
      ]
    },
    {
      "cell_type": "markdown",
      "source": [
        "# Python in Google Colab\n",
        "  \n",
        "This notebook introduces the Colab environment, basic Python objects, and a bit on how to read error messages.  \n",
        "\n",
        "💡**Saving your work to GitHub:**  \n",
        "If your notebook is connected to a GitHub repo, you can use **File → Save a copy in GitHub** to _commit_ your progress."
      ],
      "metadata": {
        "id": "FM3MOqhdzqTc"
      }
    },
    {
      "cell_type": "markdown",
      "source": [
        "## 1. Text vs Code Cells\n",
        "\n",
        "- Add a **text cell** with `+ Text`.  \n",
        "- Add a **code cell** with `+ Code`.  \n",
        "- Run a code cell with **Shift+Enter** or by clicking the ▶️ button.\n",
        "\n",
        "When you run a cell, Python executes the code on a Google node somewhere in the cloud and shows the result.\n",
        "\n",
        "✅**Checkpoint:** Remember to save your notebook to GitHub (File → Save a copy in GitHub)."
      ],
      "metadata": {
        "id": "JWBZPwC_0GGn"
      }
    },
    {
      "cell_type": "code",
      "source": [
        "# This is a code cell\n",
        "print(\"Hello, world!\")"
      ],
      "metadata": {
        "colab": {
          "base_uri": "https://localhost:8080/"
        },
        "id": "bn2SNCnsz_xi",
        "outputId": "de6e832e-5bc6-468b-ef36-6a798672d962"
      },
      "execution_count": null,
      "outputs": [
        {
          "output_type": "stream",
          "name": "stdout",
          "text": [
            "Hello, world!\n"
          ]
        }
      ]
    },
    {
      "cell_type": "markdown",
      "source": [
        "### Exercise 1\n",
        "1. Add a **text cell** below introducing yourself in one sentence.  \n",
        "2. Add a **code cell** that prints `\"Nice to meet you!\"`."
      ],
      "metadata": {
        "id": "rAcCU4Qf1TOJ"
      }
    },
    {
      "cell_type": "markdown",
      "source": [
        "Hello, my name is Matthew Flores"
      ],
      "metadata": {
        "id": "e_ZIm76ExGLN"
      }
    },
    {
      "cell_type": "code",
      "source": [
        "print(\"Nice to meet you!\")"
      ],
      "metadata": {
        "id": "jt_WW0s6_z_f",
        "colab": {
          "base_uri": "https://localhost:8080/"
        },
        "outputId": "d4052678-a324-4d28-f0a8-f1b4c4cc22a8"
      },
      "execution_count": 1,
      "outputs": [
        {
          "output_type": "stream",
          "name": "stdout",
          "text": [
            "Nice to meet you!\n"
          ]
        }
      ]
    },
    {
      "cell_type": "markdown",
      "source": [
        "## 2. Statements & Expressions\n",
        "\n",
        "- Python reads code **top to bottom, one line at a time**.  \n",
        "- An **expression** produces a value (like `2 + 3`).  \n",
        "- A **statement** does something (like `x = 5`).\n",
        "\n",
        "You can store values in **variables** with `=`.\n",
        "\n",
        "_Useful tips:_\n",
        "- You can see what variables have been assigned by using a _magic command_ -- a way to interact with the kernel state. Try running `%whos` in a code cell after you define a variable.\n",
        "- You can **delete** a variable with the command `del(my_variable)`."
      ],
      "metadata": {
        "id": "BC_WHU6d2K1B"
      }
    },
    {
      "cell_type": "code",
      "source": [
        "x = 5      # assignment statement\n",
        "y = x + 2  # expression on the right-hand side\n",
        "print(y)"
      ],
      "metadata": {
        "colab": {
          "base_uri": "https://localhost:8080/"
        },
        "id": "alDGtnmf19Xf",
        "outputId": "a626bbfc-0290-4234-d5a1-071aefb9abaa"
      },
      "execution_count": null,
      "outputs": [
        {
          "output_type": "stream",
          "name": "stdout",
          "text": [
            "7\n"
          ]
        }
      ]
    },
    {
      "cell_type": "markdown",
      "source": [
        "### Exercise 2\n",
        "1. Create a variable that stores your name.  \n",
        "2. Print a message that says `\"Hello, <your name>!\"`.  \n",
        "   * You can concatenate strings with `+`, then `print` them, or separate objects by commas in the `print` statement.\n",
        "\n",
        "✅ **Checkpoint:** Save your changes to GitHub."
      ],
      "metadata": {
        "id": "fszPPmHB2aoQ"
      }
    },
    {
      "cell_type": "code",
      "source": [
        "name = \"Matthew Flores\"\n",
        "print(\"Hello, \" + name + \"!\")"
      ],
      "metadata": {
        "id": "5QW0P4Vw_yQ_"
      },
      "execution_count": null,
      "outputs": []
    },
    {
      "cell_type": "markdown",
      "source": [
        "## 3. Core Data Types\n",
        "\n",
        "Python has a few essential types:\n",
        "\n",
        "- Numbers: `int` (integers), `float` (decimals)  \n",
        "- Text: `str` (strings)  \n",
        "- True/False: `bool`  \n",
        "- Nothing: `None`  \n",
        "- Collections: `list` (ordered values)"
      ],
      "metadata": {
        "id": "R9fqciWs3XsM"
      }
    },
    {
      "cell_type": "code",
      "source": [
        "a = 42          # int\n",
        "b = 3.14        # float\n",
        "c = \"Python\"    # str\n",
        "d = True        # bool\n",
        "e = None        # special \"nothing\"\n",
        "\n",
        "numbers = [1, 2, 3]  # list\n",
        "print(a, b, c, d, e, numbers)"
      ],
      "metadata": {
        "colab": {
          "base_uri": "https://localhost:8080/"
        },
        "id": "aMCB_gxF2j2u",
        "outputId": "879993a0-2104-4dd8-e121-a673dda07f80"
      },
      "execution_count": null,
      "outputs": [
        {
          "output_type": "stream",
          "name": "stdout",
          "text": [
            "42 3.14 Python True None [1, 2, 3]\n"
          ]
        }
      ]
    },
    {
      "cell_type": "markdown",
      "source": [
        "### Exercise 3\n",
        "1. Make a list of numbers of your choice.  \n",
        "2. Print the sum and average of those numbers.\n",
        "   - Hint: try `sum(my_list)` and `len(my_list)`.\n",
        "\n",
        "✅ **Checkpoint:** Save your notebook after finishing the exercise."
      ],
      "metadata": {
        "id": "B87lL4p_3t91"
      }
    },
    {
      "cell_type": "code",
      "source": [
        "numbers = [1, 2, 3, 4, 5]\n",
        "print(sum(numbers))\n",
        "print(sum(numbers)/len(numbers))"
      ],
      "metadata": {
        "id": "Jc7TWeTm3kX6",
        "colab": {
          "base_uri": "https://localhost:8080/"
        },
        "outputId": "05a0d35e-cbb1-4cbf-a1bd-9afba7de2109"
      },
      "execution_count": 2,
      "outputs": [
        {
          "output_type": "stream",
          "name": "stdout",
          "text": [
            "15\n",
            "3.0\n"
          ]
        }
      ]
    },
    {
      "cell_type": "markdown",
      "source": [
        "## 4. Looking Around with `dir`, `type`, and `help`\n",
        "\n",
        "Python lets you *inspect objects*:\n",
        "\n",
        "- `type(obj)` → shows the type (e.g. `str`, `list`).  \n",
        "- `dir(obj)` → lists names (methods and attributes) the object has.  \n",
        "  - Names like `method()` (e.g. `upper`) are the ones you’ll usually call.  \n",
        "  - Names starting with `__like_this__` are *special methods* (we’ll explore later).  \n",
        "  - Names starting with capital letters are often classes (we'll explore later).  \n",
        "- `help(obj)` or `obj?` (in Colab) → shows documentation.  \n",
        "- `obj??` sometimes shows source code if available.\n",
        "\n",
        "You can comment/uncomment lines and rerun cells to explore a code cell. Try it out on the code cell below.\n"
      ],
      "metadata": {
        "id": "22uHbb9R4jXS"
      }
    },
    {
      "cell_type": "code",
      "source": [
        "word = \"hello\"\n",
        "\n",
        "print(type(word))\n",
        "#print(dir(word)[:15])  # first 15 items for a glimpse\n",
        "\n",
        "# Try help:\n",
        "#help(str.upper)  # documentation for one method"
      ],
      "metadata": {
        "colab": {
          "base_uri": "https://localhost:8080/"
        },
        "id": "NRrnm3SE4NFM",
        "outputId": "78f52877-7b07-4646-e5c6-10912ca7966a"
      },
      "execution_count": null,
      "outputs": [
        {
          "output_type": "stream",
          "name": "stdout",
          "text": [
            "<class 'str'>\n"
          ]
        }
      ]
    },
    {
      "cell_type": "markdown",
      "source": [
        "### Exercise 4\n",
        "1. Use `type()` on a number, a list, and your name string.  \n",
        "2. Use `dir(str)` to list string methods. Try `.upper()` and `.replace()`.  \n",
        "3. Use `help(list.append)` and `help(str.split)` to see documentation.  \n",
        "4. Try `str?` and `str??` in a code cell.\n",
        "\n",
        "✅ **Checkpoint:** Save your work to GitHub.\n"
      ],
      "metadata": {
        "id": "K0awzQVL5LJ8"
      }
    },
    {
      "cell_type": "code",
      "source": [
        "#1.\n",
        "number = 1\n",
        "numbers = [1, 2, 3]\n",
        "name = \"Matthew Flores\"\n",
        "\n",
        "print(type(number))\n",
        "print(type(numbers))\n",
        "print(type(name))\n",
        "\n",
        "#2.\n",
        "print(dir(name))\n",
        "print(name.upper())\n",
        "print(name.replace(\"Matthew\", \"Matt\"))\n",
        "\n",
        "#3.\n",
        "help(list.append)\n",
        "help(str.split)\n",
        "\n",
        "#4.\n",
        "str?\n",
        "str??"
      ],
      "metadata": {
        "colab": {
          "base_uri": "https://localhost:8080/"
        },
        "id": "6nsUTCxLz2OX",
        "outputId": "ba40b100-f0c1-4699-a35a-63698ea51a55"
      },
      "execution_count": 10,
      "outputs": [
        {
          "output_type": "stream",
          "name": "stdout",
          "text": [
            "<class 'int'>\n",
            "<class 'list'>\n",
            "<class 'str'>\n",
            "['__add__', '__class__', '__contains__', '__delattr__', '__dir__', '__doc__', '__eq__', '__format__', '__ge__', '__getattribute__', '__getitem__', '__getnewargs__', '__getstate__', '__gt__', '__hash__', '__init__', '__init_subclass__', '__iter__', '__le__', '__len__', '__lt__', '__mod__', '__mul__', '__ne__', '__new__', '__reduce__', '__reduce_ex__', '__repr__', '__rmod__', '__rmul__', '__setattr__', '__sizeof__', '__str__', '__subclasshook__', 'capitalize', 'casefold', 'center', 'count', 'encode', 'endswith', 'expandtabs', 'find', 'format', 'format_map', 'index', 'isalnum', 'isalpha', 'isascii', 'isdecimal', 'isdigit', 'isidentifier', 'islower', 'isnumeric', 'isprintable', 'isspace', 'istitle', 'isupper', 'join', 'ljust', 'lower', 'lstrip', 'maketrans', 'partition', 'removeprefix', 'removesuffix', 'replace', 'rfind', 'rindex', 'rjust', 'rpartition', 'rsplit', 'rstrip', 'split', 'splitlines', 'startswith', 'strip', 'swapcase', 'title', 'translate', 'upper', 'zfill']\n",
            "MATTHEW FLORES\n",
            "Matt Flores\n",
            "Help on method_descriptor:\n",
            "\n",
            "append(self, object, /) unbound builtins.list method\n",
            "    Append object to the end of the list.\n",
            "\n",
            "Help on method_descriptor:\n",
            "\n",
            "split(self, /, sep=None, maxsplit=-1) unbound builtins.str method\n",
            "    Return a list of the substrings in the string, using sep as the separator string.\n",
            "\n",
            "      sep\n",
            "        The separator used to split the string.\n",
            "\n",
            "        When set to None (the default value), will split on any whitespace\n",
            "        character (including \\n \\r \\t \\f and spaces) and will discard\n",
            "        empty strings from the result.\n",
            "      maxsplit\n",
            "        Maximum number of splits.\n",
            "        -1 (the default value) means no limit.\n",
            "\n",
            "    Splitting starts at the front of the string and works to the end.\n",
            "\n",
            "    Note, str.split() is mainly useful for data that has been intentionally\n",
            "    delimited.  With natural text that includes punctuation, consider using\n",
            "    the regular expression module.\n",
            "\n"
          ]
        }
      ]
    },
    {
      "cell_type": "markdown",
      "source": [
        "## 5. Errors and Resilience\n",
        "\n",
        "When something goes wrong, Python shows a **traceback**.\n",
        "\n",
        "- The **last line** shows the error type and message.  \n",
        "- The **lines above** show where the error happened.  \n",
        "- Read from bottom → up.\n",
        "\n",
        "Here’s the **anatomy** of a simple traceback:\n",
        "\n",
        "```python\n",
        "# Example: NameError\n",
        "print(my_variable)  # oops, never defined!\n",
        "```\n",
        "\n",
        "This give the following output:\n",
        "\n",
        "```python\n",
        "---------------------------------------------------------------------------\n",
        "\n",
        "NameError                                 Traceback (most recent call last)\n",
        "\n",
        "/tmp/ipython-input-740855557.py in <cell line: 0>()\n",
        "      1 # Example: NameError\n",
        "----> 2 print(my_variable)  # oops, never defined!\n",
        "\n",
        "NameError: name 'my_variable' is not defined\n",
        "```\n",
        "\n",
        "\n",
        "- **\"Traceback (most recent call last)\"**: Python is about to explain the error.  \n",
        "- **File/line info**: shows which cell and line failed.  \n",
        "- **Error type + message**: here it's `NameError`, with explanation.\n",
        "\n",
        "✅ **Checkpoint:** Save your work after running the error example.\n"
      ],
      "metadata": {
        "id": "6tV6EBOT6Bf1"
      }
    },
    {
      "cell_type": "markdown",
      "source": [
        "### Exercise 5\n",
        "1. In the cell below, test the NameError code.\n",
        "2. Fix the NameError by defining `my_variable = \"I fixed it!\"` first.  \n",
        "3. Try to produce a `TypeError` by adding a number to a string.\n"
      ],
      "metadata": {
        "id": "C13U6nlI6v_V"
      }
    },
    {
      "cell_type": "code",
      "source": [
        "my_variable = \"I fixed it!\"\n",
        "print(my_variable)"
      ],
      "metadata": {
        "id": "XXLgNKki6Gkg",
        "colab": {
          "base_uri": "https://localhost:8080/"
        },
        "outputId": "8a7ea955-d61c-4814-89cd-c34bf8d62e1d"
      },
      "execution_count": 17,
      "outputs": [
        {
          "output_type": "stream",
          "name": "stdout",
          "text": [
            "I fixed it!\n"
          ]
        }
      ]
    },
    {
      "cell_type": "code",
      "source": [
        "type_error = \"I am a string\" + 1\n",
        "print(type_error)"
      ],
      "metadata": {
        "colab": {
          "base_uri": "https://localhost:8080/",
          "height": 162
        },
        "id": "fyprE6Wo4GmZ",
        "outputId": "8b136134-6275-49bc-d483-9519dc38a8db"
      },
      "execution_count": 15,
      "outputs": [
        {
          "output_type": "error",
          "ename": "TypeError",
          "evalue": "can only concatenate str (not \"int\") to str",
          "traceback": [
            "\u001b[0;31m---------------------------------------------------------------------------\u001b[0m",
            "\u001b[0;31mTypeError\u001b[0m                                 Traceback (most recent call last)",
            "\u001b[0;32m/tmp/ipython-input-1550835027.py\u001b[0m in \u001b[0;36m<cell line: 0>\u001b[0;34m()\u001b[0m\n\u001b[0;32m----> 1\u001b[0;31m \u001b[0mtype_error\u001b[0m \u001b[0;34m=\u001b[0m \u001b[0;34m\"I am a string\"\u001b[0m \u001b[0;34m+\u001b[0m \u001b[0;36m1\u001b[0m\u001b[0;34m\u001b[0m\u001b[0;34m\u001b[0m\u001b[0m\n\u001b[0m\u001b[1;32m      2\u001b[0m \u001b[0mprint\u001b[0m\u001b[0;34m(\u001b[0m\u001b[0mtype_error\u001b[0m\u001b[0;34m)\u001b[0m\u001b[0;34m\u001b[0m\u001b[0;34m\u001b[0m\u001b[0m\n",
            "\u001b[0;31mTypeError\u001b[0m: can only concatenate str (not \"int\") to str"
          ]
        }
      ]
    },
    {
      "cell_type": "markdown",
      "source": [
        "## 6. Kernel State and Order of Execution\n",
        "\n",
        "The **kernel** is the Python engine running your code.  \n",
        "- It remembers variables and their values across cells.  \n",
        "- If you run cells out of order, the results may be confusing.  \n",
        "- You can restart the kernel to clear everything.\n",
        "\n",
        "Try running cells in the wrong order:\n"
      ],
      "metadata": {
        "id": "XATX78LI7WEI"
      }
    },
    {
      "cell_type": "code",
      "source": [
        "# Run this second\n",
        "print(my_pet)"
      ],
      "metadata": {
        "colab": {
          "base_uri": "https://localhost:8080/"
        },
        "id": "eCIwjEaT7Fa_",
        "outputId": "d4df8dab-51fb-4935-abad-12ff28717f71"
      },
      "execution_count": 3,
      "outputs": [
        {
          "output_type": "stream",
          "name": "stdout",
          "text": [
            "cat\n"
          ]
        }
      ]
    },
    {
      "cell_type": "code",
      "source": [
        "# Run this first\n",
        "my_pet = \"cat\""
      ],
      "metadata": {
        "id": "5WCzLhBR-R1s"
      },
      "execution_count": 2,
      "outputs": []
    },
    {
      "cell_type": "markdown",
      "source": [
        "### Exercise 6\n",
        "1. Run the second cell before the first. What happens?  \n",
        "2. Now run the first cell, then the second — what changes?  \n",
        "3. Restart the kernel (**Runtime** → **Restart session**), then run the second cell again.  \n",
        "   - Notice that the kernel \"forgot\" your variable.\n",
        "\n",
        "_Remember:_\n",
        "- You can also delete a variable with `del(my_variable)`.\n",
        "- You can see what variables are stored in the kernel with `$whos`."
      ],
      "metadata": {
        "id": "AYd68EvS-klp"
      }
    },
    {
      "cell_type": "markdown",
      "source": [
        "1. If the second cell defining the pet variable is ran first, there is no error.\n",
        "\n",
        "2. If the session is restarted and the first cell is ran first, there is an error due to the variable not being defined yet."
      ],
      "metadata": {
        "id": "FEz7W5AY5Dlh"
      }
    },
    {
      "cell_type": "code",
      "source": [],
      "metadata": {
        "id": "DdcQPO4kAQfC"
      },
      "execution_count": null,
      "outputs": []
    },
    {
      "cell_type": "code",
      "source": [],
      "metadata": {
        "id": "baup33Y_5n0A"
      },
      "execution_count": null,
      "outputs": []
    },
    {
      "cell_type": "markdown",
      "source": [
        "## Summary\n",
        "\n",
        "You learned:\n",
        "- How to run text and code cells in Colab  \n",
        "- The difference between expressions, statements, and variables  \n",
        "- Basic Python types (`int`, `float`, `str`, `bool`, `None`, `list`)  \n",
        "- How to explore objects with `type()`, `dir()`, `help()`, `?`, and `??`  \n",
        "- How to read and understand a traceback  \n",
        "- What the **kernel state** is, and why running cells in order matters\n",
        "\n",
        "👉 Save your notebook and commit it to GitHub. Restart and run all cells if you get lost."
      ],
      "metadata": {
        "id": "QD_DqVUk_kmw"
      }
    },
    {
      "cell_type": "code",
      "source": [],
      "metadata": {
        "id": "h4Nw_MVa-zXd"
      },
      "execution_count": null,
      "outputs": []
    }
  ]
}